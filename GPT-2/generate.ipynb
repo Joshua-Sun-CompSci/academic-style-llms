{
 "cells": [
  {
   "cell_type": "markdown",
   "id": "3cbc572e",
   "metadata": {},
   "source": [
    "### Text generation"
   ]
  },
  {
   "cell_type": "code",
   "execution_count": 8,
   "id": "40b67cea",
   "metadata": {},
   "outputs": [],
   "source": [
    "prompt = \"Computer Science\" # Change the prompt to generate"
   ]
  },
  {
   "cell_type": "code",
   "execution_count": 9,
   "id": "26390b42",
   "metadata": {},
   "outputs": [
    {
     "name": "stderr",
     "output_type": "stream",
     "text": [
      "Setting `pad_token_id` to `eos_token_id`:50256 for open-end generation.\n"
     ]
    },
    {
     "name": "stdout",
     "output_type": "stream",
     "text": [
      "\n",
      "Generated text:\n",
      "Computer Science and Engineering (SSE) courses, which are taught by a faculty member in the graduate school. The main goal of this study is to evaluate different methods used for teaching SSE courses as well their impact on student learning outcomes through online assessments during semesters or lectures at other institutions based upon data collected from students' online activity. To achieve these goals we developed an automated system that automatically selects suitable methods\n"
     ]
    }
   ],
   "source": [
    "from transformers import GPT2Tokenizer, GPT2LMHeadModel\n",
    "\n",
    "tokenizer = GPT2Tokenizer.from_pretrained(\"Joshua-Sun-CompSci/GPT-2_academic_style_tune\")\n",
    "model = GPT2LMHeadModel.from_pretrained(\"Joshua-Sun-CompSci/GPT-2_academic_style_tune\")\n",
    "\n",
    "model.eval()\n",
    "\n",
    "inputs = tokenizer(prompt, return_tensors=\"pt\").to(model.device)\n",
    "\n",
    "outputs = model.generate(\n",
    "    **inputs,\n",
    "    max_new_tokens=80,\n",
    "    eos_token_id=tokenizer.eos_token_id,\n",
    "    do_sample=True,\n",
    "    temperature=0.7,\n",
    "    top_k=50,\n",
    "    top_p=0.9,\n",
    "    repetition_penalty=1.2\n",
    ")\n",
    "\n",
    "print(\"\\nGenerated text:\")\n",
    "print(tokenizer.decode(outputs[0], skip_special_tokens=True))"
   ]
  }
 ],
 "metadata": {
  "kernelspec": {
   "display_name": "Python 3",
   "language": "python",
   "name": "python3"
  },
  "language_info": {
   "codemirror_mode": {
    "name": "ipython",
    "version": 3
   },
   "file_extension": ".py",
   "mimetype": "text/x-python",
   "name": "python",
   "nbconvert_exporter": "python",
   "pygments_lexer": "ipython3",
   "version": "3.10.9"
  }
 },
 "nbformat": 4,
 "nbformat_minor": 5
}
